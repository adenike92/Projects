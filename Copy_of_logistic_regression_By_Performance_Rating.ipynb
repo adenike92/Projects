{
  "nbformat": 4,
  "nbformat_minor": 0,
  "metadata": {
    "colab": {
      "provenance": [],
      "authorship_tag": "ABX9TyO9pWRUAAM/wQjJzKO0UW+r",
      "include_colab_link": true
    },
    "kernelspec": {
      "name": "python3",
      "display_name": "Python 3"
    },
    "language_info": {
      "name": "python"
    }
  },
  "cells": [
    {
      "cell_type": "markdown",
      "metadata": {
        "id": "view-in-github",
        "colab_type": "text"
      },
      "source": [
        "<a href=\"https://colab.research.google.com/github/adenike92/Projects/blob/main/Copy_of_logistic_regression_By_Performance_Rating.ipynb\" target=\"_parent\"><img src=\"https://colab.research.google.com/assets/colab-badge.svg\" alt=\"Open In Colab\"/></a>"
      ]
    },
    {
      "cell_type": "code",
      "execution_count": null,
      "metadata": {
        "id": "rFGgcDxvYfGd"
      },
      "outputs": [],
      "source": [
        "import pandas as pd\n",
        "\n",
        "# Read CSV file\n",
        "df = pd.read_csv('/content/california-surgeon-performance-ratings-for-cabg-2017-2018.csv')\n",
        "df.head()\n"
      ]
    },
    {
      "cell_type": "code",
      "source": [
        "# List of columns to drop\n",
        "columns_to_drop = ['Year','Surgeon ID', 'Statewide All CABG Cases', 'Statewide Isolated CABG Cases',\n",
        "                   'Statewide Isolated CABG Deaths','Statewide Observed Mortality Rate(%)'\n",
        "                    ]\n",
        "\n",
        "# Drop the specified columns\n",
        "df = df.drop(columns=columns_to_drop)\n",
        "\n",
        "# Print the DataFrame to verify the changes\n",
        "print(df)"
      ],
      "metadata": {
        "id": "Yg1bD5KNL7Pu"
      },
      "execution_count": null,
      "outputs": []
    },
    {
      "cell_type": "code",
      "source": [
        "#chech for missing date, outliers\n",
        "print(df.isnull().sum())"
      ],
      "metadata": {
        "colab": {
          "base_uri": "https://localhost:8080/"
        },
        "id": "w1u05BUUc0__",
        "outputId": "d340d8d8-ca36-420d-ad4e-4deaa9e4f9ad"
      },
      "execution_count": null,
      "outputs": [
        {
          "output_type": "stream",
          "name": "stdout",
          "text": [
            " Surgeon Total CABG Cases                                      0\n",
            " Surgeon Total Isolated CABG Cases                             0\n",
            " Surgeon Total Isolated CABG Deaths                            0\n",
            "Overall Surgeon Operative Mortality  Risk Adjusted Rate (%)    0\n",
            "Overall Surgeon LCL                                            0\n",
            "Overall Surgeon UCL                                            0\n",
            "Overall Performance Rating                                     0\n",
            "dtype: int64\n"
          ]
        }
      ]
    },
    {
      "cell_type": "code",
      "source": [
        "# Remove duplicate rows from the DataFrame\n",
        "df = df.drop_duplicates()\n",
        "print(df.isnull().sum())\n",
        "\n"
      ],
      "metadata": {
        "colab": {
          "base_uri": "https://localhost:8080/"
        },
        "id": "inRMUaqJKKiQ",
        "outputId": "ed3bd6aa-f292-4af3-b092-4ab952645e2f"
      },
      "execution_count": null,
      "outputs": [
        {
          "output_type": "stream",
          "name": "stdout",
          "text": [
            " Surgeon Total CABG Cases                                      0\n",
            " Surgeon Total Isolated CABG Cases                             0\n",
            " Surgeon Total Isolated CABG Deaths                            0\n",
            "Overall Surgeon Operative Mortality  Risk Adjusted Rate (%)    0\n",
            "Overall Surgeon LCL                                            0\n",
            "Overall Surgeon UCL                                            0\n",
            "Overall Performance Rating                                     0\n",
            "dtype: int64\n"
          ]
        }
      ]
    },
    {
      "cell_type": "code",
      "source": [
        "# Check data type.\n",
        "data_types = df.dtypes\n",
        "print(data_types)"
      ],
      "metadata": {
        "colab": {
          "base_uri": "https://localhost:8080/"
        },
        "id": "UVP8Arh4h8La",
        "outputId": "0309662c-b7be-4aee-82bd-a022110aaa74"
      },
      "execution_count": null,
      "outputs": [
        {
          "output_type": "stream",
          "name": "stdout",
          "text": [
            " Surgeon Total CABG Cases                                        int64\n",
            " Surgeon Total Isolated CABG Cases                               int64\n",
            " Surgeon Total Isolated CABG Deaths                              int64\n",
            "Overall Surgeon Operative Mortality  Risk Adjusted Rate (%)    float64\n",
            "Overall Surgeon LCL                                            float64\n",
            "Overall Surgeon UCL                                            float64\n",
            "Overall Performance Rating                                      object\n",
            "dtype: object\n"
          ]
        }
      ]
    },
    {
      "cell_type": "code",
      "source": [
        "import pandas as pd\n",
        "from sklearn.model_selection import train_test_split\n",
        "from sklearn.impute import SimpleImputer\n",
        "from sklearn.preprocessing import OneHotEncoder, LabelEncoder\n",
        "from sklearn.compose import ColumnTransformer"
      ],
      "metadata": {
        "id": "983NsVd5WQo4"
      },
      "execution_count": null,
      "outputs": []
    },
    {
      "cell_type": "code",
      "source": [
        "from sklearn.model_selection import train_test_split\n",
        "from sklearn.preprocessing import MinMaxScaler\n",
        "from sklearn.linear_model import LogisticRegression\n",
        "from sklearn.metrics import accuracy_score\n",
        "from sklearn.metrics import classification_report, confusion_matrix\n",
        "from sklearn.preprocessing import OneHotEncoder, LabelEncoder\n",
        "from sklearn.compose import ColumnTransformer"
      ],
      "metadata": {
        "id": "2YObwu1bqCuH"
      },
      "execution_count": null,
      "outputs": []
    },
    {
      "cell_type": "code",
      "source": [
        "# Assuming 'performance_rating' is the target variable\n",
        "# and other columns are features\n",
        "X = df.drop('Overall Performance Rating', axis=1)  # Features\n",
        "y = df['Overall Performance Rating']  # Target"
      ],
      "metadata": {
        "id": "NJkUq4JXZ9TS"
      },
      "execution_count": null,
      "outputs": []
    },
    {
      "cell_type": "code",
      "source": [
        "# Standardize features by removing the mean and scaling to unit variance\n",
        "scaler = MinMaxScaler()\n",
        "scaler.fit(X)\n",
        "X_scaled = scaler.transform(X)"
      ],
      "metadata": {
        "id": "zqQVbDfEuc92"
      },
      "execution_count": null,
      "outputs": []
    },
    {
      "cell_type": "code",
      "source": [
        "#label encoding the target variable using labelencoder\n",
        "Label_encoder = LabelEncoder()\n",
        "y = Label_encoder.fit_transform(y)\n",
        "print(y)"
      ],
      "metadata": {
        "colab": {
          "base_uri": "https://localhost:8080/"
        },
        "id": "Hk0bktiNu9MF",
        "outputId": "caa75f9c-4e1a-4ea2-a0f7-031e328d5afd"
      },
      "execution_count": null,
      "outputs": [
        {
          "output_type": "stream",
          "name": "stdout",
          "text": [
            "[0 0 0 0 0 0 0 0 0 0 0 0 0 0 0 0 0 0 0 0 0 0 0 0 0 0 0 0 0 0 0 0 0 0 0 0 0\n",
            " 0 0 0 0 0 0 0 0 0 0 0 0 0 0 0 0 0 0 0 0 0 0 0 0 0 0 0 0 0 0 0 0 0 0 0 0 0\n",
            " 0 0 0 0 0 0 0 0 0 0 0 0 0 0 0 0 0 0 0 0 0 0 0 0 0 0 0 0 0 0 0 0 0 0 0 0 0\n",
            " 0 0 0 0 0 0 0 0 0 0 0 0 0 0 0 0 0 0 0 0 0 0 0 0 0 0 0 0 0 0 0 0 0 0 0 0 0\n",
            " 0 0 0 0 2 0 0 0 0 0 2 0 0 0 0 0 0 0 0 0 0 0 0 0 0 0 0 0 0 0 0 0 0 0 0 0 0\n",
            " 0 0 0 0 0 0 0 0 0 0 0 0 0 0 0 0 0 0 0 0 0 0 0 0 0 0 0 0 0 0 0 0 0 0 0 0 0\n",
            " 0 0 0 0 0 0 0 0 0 0 0 2 0 0 0 0 0 0 0 0 0 0 0 0 0 0 0 0 0 1 0 0 0 0 0 0 0\n",
            " 0 0 0 0 0 0 0 0 0 0 0 0 2 0 0 1]\n"
          ]
        }
      ]
    },
    {
      "cell_type": "code",
      "source": [
        "# Split data into training and testing sets\n",
        "X_train, X_test, y_train, y_test = train_test_split(X_scaled, y, test_size=0.3, random_state=42)"
      ],
      "metadata": {
        "id": "PGuM_ZJaaJpP"
      },
      "execution_count": null,
      "outputs": []
    },
    {
      "cell_type": "code",
      "source": [
        "# Initialize logistic regression model with regularization (L2) and cross-entropy loss\n",
        "# You can adjust the regularization strength 'C' for better performance\n",
        "model = LogisticRegression(penalty='l2', solver='lbfgs', max_iter=1000, C=0.01, multi_class='auto')"
      ],
      "metadata": {
        "id": "kVmEx0IdqJMv"
      },
      "execution_count": null,
      "outputs": []
    },
    {
      "cell_type": "code",
      "source": [
        "# Train the model\n",
        "model.fit(X_train, y_train)\n",
        "\n",
        "# Predictions\n",
        "y_pred = model.predict(X_test)\n",
        "\n",
        "#computing accuracy\n",
        "accuracy = accuracy_score(y_test, y_pred)\n",
        "print(\"Accuracy: {:.2f}%\".format(accuracy*100))\n",
        "\n",
        "# Model evaluation\n",
        "print(\"Confusion Matrix:\")\n",
        "print(confusion_matrix(y_test, y_pred))\n",
        "print(\"\\nClassification Report:\")\n",
        "print(classification_report(y_test, y_pred))\n"
      ],
      "metadata": {
        "colab": {
          "base_uri": "https://localhost:8080/"
        },
        "id": "fFYzmkh-qSeK",
        "outputId": "e75b41ec-9e5b-4b36-a6c7-df0c6ee52e22"
      },
      "execution_count": null,
      "outputs": [
        {
          "output_type": "stream",
          "name": "stdout",
          "text": [
            "Accuracy: 96.39%\n",
            "Confusion Matrix:\n",
            "[[80  0]\n",
            " [ 3  0]]\n",
            "\n",
            "Classification Report:\n",
            "              precision    recall  f1-score   support\n",
            "\n",
            "           0       0.96      1.00      0.98        80\n",
            "           2       0.00      0.00      0.00         3\n",
            "\n",
            "    accuracy                           0.96        83\n",
            "   macro avg       0.48      0.50      0.49        83\n",
            "weighted avg       0.93      0.96      0.95        83\n",
            "\n"
          ]
        },
        {
          "output_type": "stream",
          "name": "stderr",
          "text": [
            "/usr/local/lib/python3.10/dist-packages/sklearn/metrics/_classification.py:1344: UndefinedMetricWarning: Precision and F-score are ill-defined and being set to 0.0 in labels with no predicted samples. Use `zero_division` parameter to control this behavior.\n",
            "  _warn_prf(average, modifier, msg_start, len(result))\n",
            "/usr/local/lib/python3.10/dist-packages/sklearn/metrics/_classification.py:1344: UndefinedMetricWarning: Precision and F-score are ill-defined and being set to 0.0 in labels with no predicted samples. Use `zero_division` parameter to control this behavior.\n",
            "  _warn_prf(average, modifier, msg_start, len(result))\n",
            "/usr/local/lib/python3.10/dist-packages/sklearn/metrics/_classification.py:1344: UndefinedMetricWarning: Precision and F-score are ill-defined and being set to 0.0 in labels with no predicted samples. Use `zero_division` parameter to control this behavior.\n",
            "  _warn_prf(average, modifier, msg_start, len(result))\n"
          ]
        }
      ]
    },
    {
      "cell_type": "markdown",
      "source": [
        "Applying cross validation tecchinque to handle likely overfitting issues."
      ],
      "metadata": {
        "id": "QLsoQsw69Av2"
      }
    },
    {
      "cell_type": "code",
      "source": [
        "from sklearn.model_selection import cross_val_score\n",
        "from sklearn.model_selection import cross_val_predict\n",
        "from sklearn.metrics import confusion_matrix, precision_score, recall_score, f1_score\n",
        "from sklearn.metrics import make_scorer, precision_score, recall_score, f1_score\n",
        "# Initialize logistic regression model\n",
        "model = LogisticRegression()\n",
        "\n",
        "# Perform cross-validation with 5 folds\n",
        "# You can adjust the number of folds (cv parameter) as needed\n",
        "# Here, we use accuracy as the scoring metric\n",
        "# You can change the scoring metric as needed\n",
        "scores = cross_val_score(model, X_scaled, y, cv=5, scoring='accuracy')\n",
        "\n",
        "# Print cross-validation scores\n",
        "print(\"Cross-Validation Scores:\")\n",
        "print(scores)\n",
        "\n",
        "# Calculate and print the mean and standard deviation of the cross-validation scores\n",
        "print(f\"Mean Accuracy: {scores.mean():.2f}\")\n",
        "print(f\"Standard Deviation of Accuracy: {scores.std():.2f}\")\n",
        "\n",
        "\n"
      ],
      "metadata": {
        "colab": {
          "base_uri": "https://localhost:8080/"
        },
        "id": "E6K-b9CJ1qlo",
        "outputId": "c29eca44-2458-47f6-cf57-d317e793d7cd"
      },
      "execution_count": null,
      "outputs": [
        {
          "output_type": "stream",
          "name": "stdout",
          "text": [
            "Cross-Validation Scores:\n",
            "[0.98181818 0.98181818 0.98181818 0.98181818 0.96363636]\n",
            "Mean Accuracy: 0.98\n",
            "Standard Deviation of Accuracy: 0.01\n"
          ]
        },
        {
          "output_type": "stream",
          "name": "stderr",
          "text": [
            "/usr/local/lib/python3.10/dist-packages/sklearn/model_selection/_split.py:700: UserWarning: The least populated class in y has only 2 members, which is less than n_splits=5.\n",
            "  warnings.warn(\n"
          ]
        }
      ]
    },
    {
      "cell_type": "code",
      "source": [
        "\n",
        "y_pred_cv = cross_val_predict(model, X_scaled, y, cv=5)\n",
        "\n",
        "# Calculate precision, recall, and F1-score\n",
        "precision = precision_score(y, y_pred_cv, average='weighted')\n",
        "recall = recall_score(y, y_pred_cv, average='weighted')\n",
        "f1 = f1_score(y, y_pred_cv, average='weighted')\n",
        "\n",
        "# Print precision, recall, and F1-score\n",
        "print(f\"Precision: {precision:.2f}\")\n",
        "print(f\"Recall: {recall:.2f}\")\n",
        "print(f\"F1-score: {f1:.2f}\")\n",
        "\n"
      ],
      "metadata": {
        "colab": {
          "base_uri": "https://localhost:8080/"
        },
        "id": "l9mEzfs_30no",
        "outputId": "a340b9ba-3c77-4bbf-d20e-1347c0d7be77"
      },
      "execution_count": null,
      "outputs": [
        {
          "output_type": "stream",
          "name": "stdout",
          "text": [
            "Precision: 0.96\n",
            "Recall: 0.98\n",
            "F1-score: 0.97\n"
          ]
        },
        {
          "output_type": "stream",
          "name": "stderr",
          "text": [
            "/usr/local/lib/python3.10/dist-packages/sklearn/model_selection/_split.py:700: UserWarning: The least populated class in y has only 2 members, which is less than n_splits=5.\n",
            "  warnings.warn(\n",
            "/usr/local/lib/python3.10/dist-packages/sklearn/metrics/_classification.py:1344: UndefinedMetricWarning: Precision is ill-defined and being set to 0.0 in labels with no predicted samples. Use `zero_division` parameter to control this behavior.\n",
            "  _warn_prf(average, modifier, msg_start, len(result))\n"
          ]
        }
      ]
    },
    {
      "cell_type": "code",
      "source": [
        "# Calculate and print confusion matrix\n",
        "conf_matrix = confusion_matrix(y, y_pred_cv)\n",
        "print(\"Confusion Matrix:\")\n",
        "print(conf_matrix)\n",
        "\n",
        "print(\"\\nClassification Report:\")\n",
        "print(classification_report(y, y_pred_cv))\n"
      ],
      "metadata": {
        "colab": {
          "base_uri": "https://localhost:8080/"
        },
        "id": "YU2MvdLO8057",
        "outputId": "8f1b9554-da62-4b55-9fd2-ea84dc00874a"
      },
      "execution_count": null,
      "outputs": [
        {
          "output_type": "stream",
          "name": "stderr",
          "text": [
            "/usr/local/lib/python3.10/dist-packages/sklearn/metrics/_classification.py:1344: UndefinedMetricWarning: Precision and F-score are ill-defined and being set to 0.0 in labels with no predicted samples. Use `zero_division` parameter to control this behavior.\n",
            "  _warn_prf(average, modifier, msg_start, len(result))\n"
          ]
        },
        {
          "output_type": "stream",
          "name": "stdout",
          "text": [
            "Confusion Matrix:\n",
            "[[269   0   0]\n",
            " [  2   0   0]\n",
            " [  4   0   0]]\n",
            "\n",
            "Classification Report:\n",
            "              precision    recall  f1-score   support\n",
            "\n",
            "           0       0.98      1.00      0.99       269\n",
            "           1       0.00      0.00      0.00         2\n",
            "           2       0.00      0.00      0.00         4\n",
            "\n",
            "    accuracy                           0.98       275\n",
            "   macro avg       0.33      0.33      0.33       275\n",
            "weighted avg       0.96      0.98      0.97       275\n",
            "\n"
          ]
        },
        {
          "output_type": "stream",
          "name": "stderr",
          "text": [
            "/usr/local/lib/python3.10/dist-packages/sklearn/metrics/_classification.py:1344: UndefinedMetricWarning: Precision and F-score are ill-defined and being set to 0.0 in labels with no predicted samples. Use `zero_division` parameter to control this behavior.\n",
            "  _warn_prf(average, modifier, msg_start, len(result))\n",
            "/usr/local/lib/python3.10/dist-packages/sklearn/metrics/_classification.py:1344: UndefinedMetricWarning: Precision and F-score are ill-defined and being set to 0.0 in labels with no predicted samples. Use `zero_division` parameter to control this behavior.\n",
            "  _warn_prf(average, modifier, msg_start, len(result))\n"
          ]
        }
      ]
    },
    {
      "cell_type": "code",
      "source": [
        "# Split data into training and testing sets\n",
        "X_train, X_test, y_train, y_test = train_test_split(X, y, test_size=0.2, random_state=42)\n",
        "from sklearn.preprocessing import StandardScaler\n",
        "from sklearn.svm import SVC\n",
        "from sklearn.metrics import accuracy_score, classification_report, confusion_matrix\n",
        "\n",
        "\n",
        "# Standardize features by removing the mean and scaling to unit variance\n",
        "scaler = StandardScaler()\n",
        "X_train_scaled = scaler.fit_transform(X_train)\n",
        "X_test_scaled = scaler.transform(X_test)\n",
        "\n",
        "# Initialize SVM model\n",
        "model = SVC(kernel='rbf', random_state=42)  # Using RBF kernel as an example, you can also try linear, polynomial, etc.\n",
        "\n",
        "# Train the model\n",
        "model.fit(X_train_scaled, y_train)\n",
        "\n",
        "# Predictions\n",
        "y_pred = model.predict(X_test_scaled)\n",
        "\n",
        "# Evaluate the model\n",
        "accuracy = accuracy_score(y_test, y_pred)\n",
        "print(\"Accuracy:\", accuracy)\n",
        "print(\"\\nConfusion Matrix:\")\n",
        "print(confusion_matrix(y_test, y_pred))\n",
        "print(\"\\nClassification Report:\")\n",
        "print(classification_report(y_test, y_pred))"
      ],
      "metadata": {
        "colab": {
          "base_uri": "https://localhost:8080/"
        },
        "id": "VFx60jG3Mptj",
        "outputId": "12a72af9-f447-48b1-94bf-8ae40249d7b1"
      },
      "execution_count": null,
      "outputs": [
        {
          "output_type": "stream",
          "name": "stdout",
          "text": [
            "Accuracy: 0.9636363636363636\n",
            "\n",
            "Confusion Matrix:\n",
            "[[53  0]\n",
            " [ 2  0]]\n",
            "\n",
            "Classification Report:\n",
            "              precision    recall  f1-score   support\n",
            "\n",
            "           0       0.96      1.00      0.98        53\n",
            "           2       0.00      0.00      0.00         2\n",
            "\n",
            "    accuracy                           0.96        55\n",
            "   macro avg       0.48      0.50      0.49        55\n",
            "weighted avg       0.93      0.96      0.95        55\n",
            "\n"
          ]
        },
        {
          "output_type": "stream",
          "name": "stderr",
          "text": [
            "/usr/local/lib/python3.10/dist-packages/sklearn/metrics/_classification.py:1344: UndefinedMetricWarning: Precision and F-score are ill-defined and being set to 0.0 in labels with no predicted samples. Use `zero_division` parameter to control this behavior.\n",
            "  _warn_prf(average, modifier, msg_start, len(result))\n",
            "/usr/local/lib/python3.10/dist-packages/sklearn/metrics/_classification.py:1344: UndefinedMetricWarning: Precision and F-score are ill-defined and being set to 0.0 in labels with no predicted samples. Use `zero_division` parameter to control this behavior.\n",
            "  _warn_prf(average, modifier, msg_start, len(result))\n",
            "/usr/local/lib/python3.10/dist-packages/sklearn/metrics/_classification.py:1344: UndefinedMetricWarning: Precision and F-score are ill-defined and being set to 0.0 in labels with no predicted samples. Use `zero_division` parameter to control this behavior.\n",
            "  _warn_prf(average, modifier, msg_start, len(result))\n"
          ]
        }
      ]
    },
    {
      "cell_type": "code",
      "source": [
        "# Import necessary libraries\n",
        "import tensorflow\n",
        "import pandas as pd\n",
        "import numpy as np\n",
        "from sklearn.model_selection import train_test_split\n",
        "from sklearn.preprocessing import StandardScaler, LabelEncoder\n",
        "from sklearn.metrics import classification_report\n",
        "from tensorflow.keras.models import Sequential\n",
        "from tensorflow.keras.layers import Dense\n",
        "\n",
        "# Split data into training and testing sets\n",
        "X_train, X_test, y_train, y_test = train_test_split(X, y, test_size=0.2, random_state=42)\n",
        "\n",
        "# Standardize features\n",
        "scaler = StandardScaler()\n",
        "X_train_scaled = scaler.fit_transform(X_train)\n",
        "X_test_scaled = scaler.transform(X_test)\n",
        "\n",
        "# Build neural network model\n",
        "model = Sequential([\n",
        "    Dense(64, activation='relu', input_shape=(X_train.shape[1],)),\n",
        "    Dense(64, activation='relu'),\n",
        "    Dense(3, activation='softmax')  # 3 output classes corresponding to performance ratings\n",
        "])\n",
        "\n",
        "# Compile the model\n",
        "model.compile(optimizer='adam',\n",
        "              loss='sparse_categorical_crossentropy',  # Use sparse categorical cross-entropy for integer-encoded target\n",
        "              metrics=['accuracy'])\n",
        "\n",
        "# Train the model\n",
        "model.fit(X_train_scaled, y_train, epochs=20, batch_size=32, verbose=1)\n",
        "\n",
        "# Evaluate the model on test data\n",
        "test_loss, test_accuracy = model.evaluate(X_test_scaled, y_test, verbose=0)\n",
        "print(f\"Test Accuracy: {test_accuracy:.2f}\")\n",
        "\n",
        "# Make predictions\n",
        "y_pred = np.argmax(model.predict(X_test_scaled), axis=-1)\n",
        "\n",
        "# Convert predictions back to original labels (if needed)\n",
        "#y_pred_label = Label_encoder.inverse_transform(y_pred)\n",
        "\n",
        "# Print classification report\n",
        "print(\"\\nClassification Report:\")\n",
        "print(classification_report(y_test, y_pred))\n"
      ],
      "metadata": {
        "colab": {
          "base_uri": "https://localhost:8080/"
        },
        "id": "n1J_7CH5NE6e",
        "outputId": "924565f0-9680-46d6-c1a3-61d3a637ff7f"
      },
      "execution_count": null,
      "outputs": [
        {
          "output_type": "stream",
          "name": "stdout",
          "text": [
            "Epoch 1/20\n",
            "7/7 [==============================] - 1s 5ms/step - loss: 1.0149 - accuracy: 0.6455\n",
            "Epoch 2/20\n",
            "7/7 [==============================] - 0s 3ms/step - loss: 0.7671 - accuracy: 0.9818\n",
            "Epoch 3/20\n",
            "7/7 [==============================] - 0s 3ms/step - loss: 0.5755 - accuracy: 0.9818\n",
            "Epoch 4/20\n",
            "7/7 [==============================] - 0s 3ms/step - loss: 0.4263 - accuracy: 0.9818\n",
            "Epoch 5/20\n",
            "7/7 [==============================] - 0s 3ms/step - loss: 0.3171 - accuracy: 0.9818\n",
            "Epoch 6/20\n",
            "7/7 [==============================] - 0s 4ms/step - loss: 0.2431 - accuracy: 0.9818\n",
            "Epoch 7/20\n",
            "7/7 [==============================] - 0s 4ms/step - loss: 0.1937 - accuracy: 0.9818\n",
            "Epoch 8/20\n",
            "7/7 [==============================] - 0s 3ms/step - loss: 0.1690 - accuracy: 0.9818\n",
            "Epoch 9/20\n",
            "7/7 [==============================] - 0s 3ms/step - loss: 0.1536 - accuracy: 0.9818\n",
            "Epoch 10/20\n",
            "7/7 [==============================] - 0s 3ms/step - loss: 0.1421 - accuracy: 0.9818\n",
            "Epoch 11/20\n",
            "7/7 [==============================] - 0s 3ms/step - loss: 0.1348 - accuracy: 0.9818\n",
            "Epoch 12/20\n",
            "7/7 [==============================] - 0s 3ms/step - loss: 0.1291 - accuracy: 0.9818\n",
            "Epoch 13/20\n",
            "7/7 [==============================] - 0s 3ms/step - loss: 0.1224 - accuracy: 0.9818\n",
            "Epoch 14/20\n",
            "7/7 [==============================] - 0s 3ms/step - loss: 0.1167 - accuracy: 0.9818\n",
            "Epoch 15/20\n",
            "7/7 [==============================] - 0s 3ms/step - loss: 0.1110 - accuracy: 0.9818\n",
            "Epoch 16/20\n",
            "7/7 [==============================] - 0s 3ms/step - loss: 0.1063 - accuracy: 0.9818\n",
            "Epoch 17/20\n",
            "7/7 [==============================] - 0s 3ms/step - loss: 0.1005 - accuracy: 0.9818\n",
            "Epoch 18/20\n",
            "7/7 [==============================] - 0s 3ms/step - loss: 0.0962 - accuracy: 0.9818\n",
            "Epoch 19/20\n",
            "7/7 [==============================] - 0s 3ms/step - loss: 0.0937 - accuracy: 0.9818\n",
            "Epoch 20/20\n",
            "7/7 [==============================] - 0s 3ms/step - loss: 0.0878 - accuracy: 0.9818\n",
            "Test Accuracy: 0.96\n",
            "2/2 [==============================] - 0s 6ms/step\n",
            "\n",
            "Classification Report:\n",
            "              precision    recall  f1-score   support\n",
            "\n",
            "           0       0.96      1.00      0.98        53\n",
            "           2       0.00      0.00      0.00         2\n",
            "\n",
            "    accuracy                           0.96        55\n",
            "   macro avg       0.48      0.50      0.49        55\n",
            "weighted avg       0.93      0.96      0.95        55\n",
            "\n"
          ]
        },
        {
          "output_type": "stream",
          "name": "stderr",
          "text": [
            "/usr/local/lib/python3.10/dist-packages/sklearn/metrics/_classification.py:1344: UndefinedMetricWarning: Precision and F-score are ill-defined and being set to 0.0 in labels with no predicted samples. Use `zero_division` parameter to control this behavior.\n",
            "  _warn_prf(average, modifier, msg_start, len(result))\n",
            "/usr/local/lib/python3.10/dist-packages/sklearn/metrics/_classification.py:1344: UndefinedMetricWarning: Precision and F-score are ill-defined and being set to 0.0 in labels with no predicted samples. Use `zero_division` parameter to control this behavior.\n",
            "  _warn_prf(average, modifier, msg_start, len(result))\n",
            "/usr/local/lib/python3.10/dist-packages/sklearn/metrics/_classification.py:1344: UndefinedMetricWarning: Precision and F-score are ill-defined and being set to 0.0 in labels with no predicted samples. Use `zero_division` parameter to control this behavior.\n",
            "  _warn_prf(average, modifier, msg_start, len(result))\n"
          ]
        }
      ]
    }
  ]
}